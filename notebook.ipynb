{
 "cells": [
  {
   "cell_type": "code",
   "execution_count": null,
   "id": "fca58b7c",
   "metadata": {},
   "outputs": [],
   "source": [
    "# Temel kütüphaneler\n",
    "import pandas as pd\n",
    "import numpy as np\n",
    "\n",
    "# Klasik görselleştirme\n",
    "import matplotlib.pyplot as plt\n",
    "import seaborn as sns\n",
    "\n",
    "# Etkileşimli grafikler\n",
    "import plotly.express as px\n",
    "import plotly.graph_objects as go\n",
    "\n",
    "# Etkileşimli tablo ve dashboard için\n",
    "import ipywidgets as widgets\n",
    "from IPython.display import display\n",
    "\n",
    "# İstatistiksel analiz için\n",
    "import scipy.stats as stats\n"
   ]
  },
  {
   "cell_type": "code",
   "execution_count": null,
   "id": "4f328720",
   "metadata": {},
   "outputs": [],
   "source": [
    "fig = px.pie(df, names='muzik_turu', title='Müzik Tercih Dağılımı (Pie)')\n",
    "fig.show()\n"
   ]
  },
  {
   "cell_type": "code",
   "execution_count": null,
   "id": "59c63a7d",
   "metadata": {},
   "outputs": [],
   "source": [
    "fig = px.histogram(df, x='muzik_turu', color='yasam_tarzi', barmode='group',\n",
    "                   title=\"Müzik Türüne Göre Yaşam Tarzı Dağılımı\")\n",
    "fig.show()\n"
   ]
  },
  {
   "cell_type": "code",
   "execution_count": null,
   "id": "ecc41aac",
   "metadata": {},
   "outputs": [],
   "source": [
    "rap = df[df['muzik_turu'] == 'Rap']['yasam_tarzi']\n",
    "klasik = df[df['muzik_turu'] == 'Klasik']['yasam_tarzi']\n",
    "# Eğer yaşam_tarzi sayısal verilere çevrilmişse:\n",
    "t_stat, p_val = stats.ttest_ind(rap, klasik)\n",
    "print(\"p-değeri:\", p_val)\n"
   ]
  },
  {
   "cell_type": "code",
   "execution_count": null,
   "id": "c7e9b6a2",
   "metadata": {},
   "outputs": [],
   "source": [
    "fig = px.bar(df, x='muzik_turu', title='Müzik Türleri Dağılımı (Etkileşimli)', color='muzik_turu')\n",
    "fig.show()\n"
   ]
  },
  {
   "cell_type": "code",
   "execution_count": null,
   "id": "21ddebc6",
   "metadata": {},
   "outputs": [],
   "source": [
    "df = pd.read_csv(\"veri.csv\")\n",
    "df.head()\n"
   ]
  },
  {
   "cell_type": "code",
   "execution_count": null,
   "id": "ad8c3a88",
   "metadata": {},
   "outputs": [],
   "source": [
    "plt.figure(figsize=(10,6))\n",
    "sns.countplot(data=df, x='muzik_turu', order=df['muzik_turu'].value_counts().index, palette=\"viridis\")\n",
    "plt.title(\"Müzik Türlerine Göre Kullanıcı Sayısı\")\n",
    "plt.xlabel(\"Müzik Türü\")\n",
    "plt.ylabel(\"Kullanıcı Sayısı\")\n",
    "plt.xticks(rotation=45)\n",
    "plt.tight_layout()\n",
    "plt.show()\n"
   ]
  },
  {
   "cell_type": "code",
   "execution_count": null,
   "id": "769b0bad",
   "metadata": {},
   "outputs": [],
   "source": [
    "df['muzik_turu'].value_counts().plot.pie(autopct='%1.1f%%', startangle=90, figsize=(8,8), colormap='Pastel1')\n",
    "plt.ylabel('')\n",
    "plt.title(\"Müzik Türü Tercih Dağılımı\")\n",
    "plt.show()\n"
   ]
  },
  {
   "cell_type": "code",
   "execution_count": null,
   "id": "eeae3dc3",
   "metadata": {},
   "outputs": [],
   "source": [
    "plt.figure(figsize=(10,6))\n",
    "sns.countplot(data=df, x='muzik_turu', hue='yasam_tarzi', palette='Set2')\n",
    "plt.title(\"Müzik Türüne Göre Yaşam Tarzı Dağılımı\")\n",
    "plt.xlabel(\"Müzik Türü\")\n",
    "plt.ylabel(\"Kullanıcı Sayısı\")\n",
    "plt.xticks(rotation=45)\n",
    "plt.legend(title='Yaşam Tarzı')\n",
    "plt.tight_layout()\n",
    "plt.show()\n"
   ]
  }
 ],
 "metadata": {
  "kernelspec": {
   "display_name": "Python 3",
   "language": "python",
   "name": "python3"
  },
  "language_info": {
   "name": "python",
   "version": "3.12.10"
  }
 },
 "nbformat": 4,
 "nbformat_minor": 5
}
